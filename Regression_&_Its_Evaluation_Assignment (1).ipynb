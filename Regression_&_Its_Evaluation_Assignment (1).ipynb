{
  "nbformat": 4,
  "nbformat_minor": 0,
  "metadata": {
    "colab": {
      "provenance": []
    },
    "kernelspec": {
      "name": "python3",
      "display_name": "Python 3"
    },
    "language_info": {
      "name": "python"
    }
  },
  "cells": [
    {
      "cell_type": "markdown",
      "source": [
        "#Regression & Its Evaluation-Assignment"
      ],
      "metadata": {
        "id": "7GYEgSQUEHzE"
      }
    },
    {
      "cell_type": "markdown",
      "source": [
        "Question 1: What is Simple Linear Regression?\n",
        "\n",
        "Answer:\n",
        "Simple Linear Regression is a statistical method used to model the relationship between two variables:\n",
        "\n",
        "Independent variable (X) → predictor/input\n",
        "\n",
        "Dependent variable (Y) → response/output\n",
        "\n",
        "It fits a straight line (regression line).\n",
        "\n"
      ],
      "metadata": {
        "id": "lQAh0cc4EPjI"
      }
    },
    {
      "cell_type": "markdown",
      "source": [
        "Question 2: What are the key assumptions of Simple Linear Regression?\n",
        "\n",
        "Answer:\n",
        "\n",
        "Linearity – The relationship between X and Y is linear.\n",
        "\n",
        "Independence – Observations are independent of each other.\n",
        "\n",
        "Homoscedasticity – Constant variance of residuals (errors).\n",
        "\n",
        "Normality – Residuals are normally distributed.\n",
        "\n",
        "No Autocorrelation – Errors are not correlated with each other."
      ],
      "metadata": {
        "id": "2yn4psB4EPf1"
      }
    },
    {
      "cell_type": "markdown",
      "source": [
        "Question 3: What is heteroscedasticity, and why is it important to address in regression models?\n",
        "\n",
        "Answer:\n",
        "\n",
        "Heteroscedasticity occurs when the variance of residuals is not constant across levels of the independent variable(s).\n",
        "\n",
        "Example: In predicting house prices, errors may increase for larger houses.\n",
        "\n",
        "Why important:\n",
        "\n",
        "Leads to inefficient estimates.\n",
        "\n",
        "Standard errors become biased, making hypothesis tests and confidence intervals unreliable.\n",
        "\n",
        "Solutions include log-transforming variables, using weighted least squares, or applying robust standard errors.\n",
        "\n"
      ],
      "metadata": {
        "id": "rvtHMGYVEPdv"
      }
    },
    {
      "cell_type": "markdown",
      "source": [
        "Question 4: What is Multiple Linear Regression?\n",
        "\n",
        "Answer:\n",
        "Multiple Linear Regression extends simple regression to include two or more independent variables.\n",
        "\n",
        "\n",
        "It allows for more accurate predictions and helps understand the combined effect of multiple predictors on the dependent variable."
      ],
      "metadata": {
        "id": "kk58qa-3EPbG"
      }
    },
    {
      "cell_type": "markdown",
      "source": [
        "Question 5: What is polynomial regression, and how does it differ from linear regression?\n",
        "\n",
        "Answer:\n",
        "\n",
        "Polynomial Regression models a nonlinear relationship between X and Y by including higher-order terms of X\n",
        "Difference:\n",
        "\n",
        "Linear regression fits a straight line.\n",
        "\n",
        "Polynomial regression fits a curved line to capture nonlinear patterns."
      ],
      "metadata": {
        "id": "kiMIsHLcEPYs"
      }
    },
    {
      "cell_type": "markdown",
      "source": [
        "Question 6: Implement a Python program to fit a Simple Linear Regression model to\n",
        "the following sample data:\n",
        "● X = [1, 2, 3, 4, 5]\n",
        "● Y = [2.1, 4.3, 6.1, 7.9, 10.2]\n",
        "Plot the regression line over the data points."
      ],
      "metadata": {
        "id": "7PGOWspQEPWU"
      }
    },
    {
      "cell_type": "code",
      "source": [
        "import numpy as np\n",
        "import matplotlib.pyplot as plt\n",
        "from sklearn.linear_model import LinearRegression\n",
        "\n",
        "# Data\n",
        "X = np.array([1, 2, 3, 4, 5]).reshape(-1, 1)\n",
        "Y = np.array([2.1, 4.3, 6.1, 7.9, 10.2])\n",
        "\n",
        "# Model\n",
        "model = LinearRegression()\n",
        "model.fit(X, Y)\n",
        "\n",
        "# Predictions\n",
        "Y_pred = model.predict(X)\n",
        "\n",
        "# Plot\n",
        "plt.scatter(X, Y, color=\"blue\", label=\"Data Points\")\n",
        "plt.plot(X, Y_pred, color=\"red\", label=\"Regression Line\")\n",
        "plt.xlabel(\"X\")\n",
        "plt.ylabel(\"Y\")\n",
        "plt.legend()\n",
        "plt.show()\n",
        "\n",
        "print(\"Intercept:\", model.intercept_)\n",
        "print(\"Slope:\", model.coef_[0])\n"
      ],
      "metadata": {
        "colab": {
          "base_uri": "https://localhost:8080/",
          "height": 484
        },
        "id": "trSKprWtFLjt",
        "outputId": "c222dcb1-ee16-4bd8-e940-6de127097aab"
      },
      "execution_count": 1,
      "outputs": [
        {
          "output_type": "display_data",
          "data": {
            "text/plain": [
              "<Figure size 640x480 with 1 Axes>"
            ],
            "image/png": "[encoded data removed]"
          },
          "metadata": {}
        },
        {
          "output_type": "stream",
          "name": "stdout",
          "text": [
            "Intercept: 0.17999999999999794\n",
            "Slope: 1.9800000000000004\n"
          ]
        }
      ]
    },
    {
      "cell_type": "markdown",
      "source": [
        "Question 7:Fit a Multiple Linear Regression model on this sample data:\n",
        "● Area = [1200, 1500, 1800, 2000]\n",
        "● Rooms = [2, 3, 3, 4]\n",
        "● Price = [250000, 300000, 320000, 370000]"
      ],
      "metadata": {
        "id": "s6EFrsUnEPTo"
      }
    },
    {
      "cell_type": "code",
      "source": [
        "import pandas as pd\n",
        "import statsmodels.api as sm\n",
        "from statsmodels.stats.outliers_influence import variance_inflation_factor\n",
        "\n",
        "# Data\n",
        "data = pd.DataFrame({\n",
        "    \"Area\": [1200, 1500, 1800, 2000],\n",
        "    \"Rooms\": [2, 3, 3, 4],\n",
        "    \"Price\": [250000, 300000, 320000, 370000]\n",
        "})\n",
        "\n",
        "X = data[[\"Area\", \"Rooms\"]]\n",
        "y = data[\"Price\"]\n",
        "\n",
        "# Add constant\n",
        "X_const = sm.add_constant(X)\n",
        "\n",
        "# Model\n",
        "model = sm.OLS(y, X_const).fit()\n",
        "print(model.summary())\n",
        "\n",
        "# VIF check\n",
        "vif_data = pd.DataFrame()\n",
        "vif_data[\"Feature\"] = X_const.columns\n",
        "vif_data[\"VIF\"] = [variance_inflation_factor(X_const.values, i) for i in range(X_const.shape[1])]\n",
        "print(vif_data)\n"
      ],
      "metadata": {
        "colab": {
          "base_uri": "https://localhost:8080/"
        },
        "id": "iA_885ccFl3z",
        "outputId": "14662583-62c5-4139-a3e8-91aff4ebbcea"
      },
      "execution_count": 2,
      "outputs": [
        {
          "output_type": "stream",
          "name": "stdout",
          "text": [
            "                            OLS Regression Results                            \n",
            "==============================================================================\n",
            "Dep. Variable:                  Price   R-squared:                       0.999\n",
            "Model:                            OLS   Adj. R-squared:                  0.996\n",
            "Method:                 Least Squares   F-statistic:                     351.0\n",
            "Date:                Wed, 10 Sep 2025   Prob (F-statistic):             0.0377\n",
            "Time:                        05:25:47   Log-Likelihood:                -35.242\n",
            "No. Observations:                   4   AIC:                             76.48\n",
            "Df Residuals:                       1   BIC:                             74.64\n",
            "Df Model:                           2                                         \n",
            "Covariance Type:            nonrobust                                         \n",
            "==============================================================================\n",
            "                 coef    std err          t      P>|t|      [0.025      0.975]\n",
            "------------------------------------------------------------------------------\n",
            "const       1.032e+05   9488.293     10.872      0.058   -1.74e+04    2.24e+05\n",
            "Area          63.1579     14.886      4.243      0.147    -125.992     252.308\n",
            "Rooms       3.474e+04   6381.240      5.444      0.116   -4.63e+04    1.16e+05\n",
            "==============================================================================\n",
            "Omnibus:                          nan   Durbin-Watson:                   2.053\n",
            "Prob(Omnibus):                    nan   Jarque-Bera (JB):                0.554\n",
            "Skew:                          -0.154   Prob(JB):                        0.758\n",
            "Kurtosis:                       1.202   Cond. No.                     1.01e+04\n",
            "==============================================================================\n",
            "\n",
            "Notes:\n",
            "[1] Standard Errors assume that the covariance matrix of the errors is correctly specified.\n",
            "[2] The condition number is large, 1.01e+04. This might indicate that there are\n",
            "strong multicollinearity or other numerical problems.\n",
            "  Feature        VIF\n",
            "0   const  34.210526\n",
            "1    Area   7.736842\n",
            "2   Rooms   7.736842\n"
          ]
        },
        {
          "output_type": "stream",
          "name": "stderr",
          "text": [
            "/usr/local/lib/python3.12/dist-packages/statsmodels/stats/stattools.py:74: ValueWarning: omni_normtest is not valid with less than 8 observations; 4 samples were given.\n",
            "  warn(\"omni_normtest is not valid with less than 8 observations; %i \"\n"
          ]
        }
      ]
    },
    {
      "cell_type": "markdown",
      "source": [
        "Question 8: Implement polynomial regression on the following data:\n",
        "● X = [1, 2, 3, 4, 5]\n",
        "● Y = [2.2, 4.8, 7.5, 11.2, 14.7]\n"
      ],
      "metadata": {
        "id": "OSzzqm2SEPOs"
      }
    },
    {
      "cell_type": "code",
      "source": [
        "from sklearn.preprocessing import PolynomialFeatures\n",
        "from sklearn.linear_model import LinearRegression\n",
        "\n",
        "X = np.array([1, 2, 3, 4, 5]).reshape(-1, 1)\n",
        "Y = np.array([2.2, 4.8, 7.5, 11.2, 14.7])\n",
        "\n",
        "poly = PolynomialFeatures(degree=2)\n",
        "X_poly = poly.fit_transform(X)\n",
        "\n",
        "model = LinearRegression()\n",
        "model.fit(X_poly, Y)\n",
        "Y_pred = model.predict(X_poly)\n",
        "\n",
        "plt.scatter(X, Y, color=\"blue\")\n",
        "plt.plot(X, Y_pred, color=\"red\")\n",
        "plt.xlabel(\"X\")\n",
        "plt.ylabel(\"Y\")\n",
        "plt.title(\"Polynomial Regression (Degree 2)\")\n",
        "plt.show()\n",
        "\n",
        "print(\"Coefficients:\", model.coef_)\n",
        "print(\"Intercept:\", model.intercept_)\n"
      ],
      "metadata": {
        "colab": {
          "base_uri": "https://localhost:8080/",
          "height": 507
        },
        "id": "EBIvvvL_Fzu6",
        "outputId": "044fdf7b-af02-421d-dbcb-29b011a8e057"
      },
      "execution_count": 3,
      "outputs": [
        {
          "output_type": "display_data",
          "data": {
            "text/plain": [
              "<Figure size 640x480 with 1 Axes>"
            ],
            "image/png": "[encoded data removed]"
          },
          "metadata": {}
        },
        {
          "output_type": "stream",
          "name": "stdout",
          "text": [
            "Coefficients: [0.   1.94 0.2 ]\n",
            "Intercept: 0.06000000000000938\n"
          ]
        }
      ]
    },
    {
      "cell_type": "markdown",
      "source": [
        "Question 9: Create a residuals plot for a regression model trained on this data:\n",
        "● X = [10, 20, 30, 40, 50]\n",
        "● Y = [15, 35, 40, 50, 65]"
      ],
      "metadata": {
        "id": "MDnR8i3sEO8y"
      }
    },
    {
      "cell_type": "code",
      "execution_count": 4,
      "metadata": {
        "colab": {
          "base_uri": "https://localhost:8080/",
          "height": 472
        },
        "id": "D34Ted4ZEBT8",
        "outputId": "7b32d99f-3ba9-4c83-a1a1-cd7712bd2255"
      },
      "outputs": [
        {
          "output_type": "display_data",
          "data": {
            "text/plain": [
              "<Figure size 640x480 with 1 Axes>"
            ],
            "image/png": "[encoded data removed]"
          },
          "metadata": {}
        }
      ],
      "source": [
        "X = np.array([10, 20, 30, 40, 50]).reshape(-1, 1)\n",
        "Y = np.array([15, 35, 40, 50, 65])\n",
        "\n",
        "model = LinearRegression()\n",
        "model.fit(X, Y)\n",
        "Y_pred = model.predict(X)\n",
        "\n",
        "residuals = Y - Y_pred\n",
        "\n",
        "plt.scatter(X, residuals, color=\"blue\")\n",
        "plt.axhline(y=0, color=\"red\", linestyle=\"--\")\n",
        "plt.xlabel(\"X\")\n",
        "plt.ylabel(\"Residuals\")\n",
        "plt.title(\"Residual Plot\")\n",
        "plt.show()\n"
      ]
    },
    {
      "cell_type": "markdown",
      "source": [
        "Question 10: Imagine you are a data scientist working for a real estate company. You\n",
        "need to predict house prices using features like area, number of rooms, and location.\n",
        "However, you detect heteroscedasticity and multicollinearity in your regression\n",
        "model. Explain the steps you would take to address these issues and ensure a robust\n",
        "model.\n"
      ],
      "metadata": {
        "id": "nVcgiKDqGCdC"
      }
    },
    {
      "cell_type": "markdown",
      "source": [
        "Answer:\n",
        "\n",
        "Heteroscedasticity remedies:\n",
        "\n",
        "Apply log or square root transformation of dependent variable.\n",
        "\n",
        "Use Weighted Least Squares.\n",
        "\n",
        "Use robust standard errors.\n",
        "\n",
        "Multicollinearity remedies:\n",
        "\n",
        "Calculate VIF to identify correlated predictors.\n",
        "\n",
        "Drop highly correlated variables.\n",
        "\n",
        "Use Principal Component Regression (PCR) or Ridge/Lasso regression.\n",
        "\n",
        "Standardize variables to reduce scaling issues.\n",
        "\n",
        "Ensure robust model:\n",
        "\n",
        "Validate using train-test split or cross-validation.\n",
        "\n",
        "Regularly check residuals plots and diagnostic tests."
      ],
      "metadata": {
        "id": "uGECOJp0GHDq"
      }
    },
    {
      "cell_type": "code",
      "source": [],
      "metadata": {
        "id": "VPl_U5dPF-IQ"
      },
      "execution_count": null,
      "outputs": []
    }
  ]
}